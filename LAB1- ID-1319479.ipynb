{
 "cells": [
  {
   "cell_type": "code",
   "execution_count": 2,
   "id": "986c27d0",
   "metadata": {},
   "outputs": [
    {
     "name": "stdout",
     "output_type": "stream",
     "text": [
      "Enter the message: abcd\n",
      "Compressed message: abcd\n"
     ]
    }
   ],
   "source": [
    "def compress_message(msg):\n",
    "    compressed_msg = \"\"\n",
    "    current_char = msg[0]\n",
    "    count = 1\n",
    "\n",
    "    for i in range(1, len(msg)):\n",
    "        if msg[i] == current_char:\n",
    "            count += 1\n",
    "        else:\n",
    "            compressed_msg += current_char if count == 1 else f\"{current_char}{count}\"\n",
    "            current_char = msg[i]\n",
    "            count = 1\n",
    "\n",
    "    compressed_msg += current_char if count == 1 else f\"{current_char}{count}\"\n",
    "    return compressed_msg\n",
    "\n",
    "if __name__ == \"__main__\":\n",
    "    user_input = input(\"Enter the message: \")\n",
    "    compressed_output = compress_message(user_input)\n",
    "    print(\"Compressed message:\", compressed_output)"
   ]
  },
  {
   "cell_type": "code",
   "execution_count": null,
   "id": "a365135c",
   "metadata": {},
   "outputs": [],
   "source": []
  },
  {
   "cell_type": "code",
   "execution_count": null,
   "id": "c5958747",
   "metadata": {},
   "outputs": [],
   "source": []
  },
  {
   "cell_type": "code",
   "execution_count": null,
   "id": "3d1e7449",
   "metadata": {},
   "outputs": [],
   "source": []
  }
 ],
 "metadata": {
  "kernelspec": {
   "display_name": "Python 3 (ipykernel)",
   "language": "python",
   "name": "python3"
  },
  "language_info": {
   "codemirror_mode": {
    "name": "ipython",
    "version": 3
   },
   "file_extension": ".py",
   "mimetype": "text/x-python",
   "name": "python",
   "nbconvert_exporter": "python",
   "pygments_lexer": "ipython3",
   "version": "3.10.9"
  }
 },
 "nbformat": 4,
 "nbformat_minor": 5
}
